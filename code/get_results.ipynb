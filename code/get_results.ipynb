{
 "cells": [
  {
   "cell_type": "code",
   "execution_count": 78,
   "metadata": {},
   "outputs": [],
   "source": [
    "import os, cv2, random, argparse\n",
    "import numpy as np\n",
    "import pandas as pd\n",
    "from helpers import corresponding_label_to_video, get_rtf_text\n",
    "from collections import deque\n"
   ]
  },
  {
   "cell_type": "code",
   "execution_count": 79,
   "metadata": {},
   "outputs": [
    {
     "name": "stdout",
     "output_type": "stream",
     "text": [
      "                                  video_name  current_second  No_event  Fire  \\\n",
      "0  E:/2025_ICIAP_FIRE/dataset\\1\\Video145.mp4              15         1     0   \n",
      "1  E:/2025_ICIAP_FIRE/dataset\\1\\Video145.mp4              31         1     0   \n",
      "2  E:/2025_ICIAP_FIRE/dataset\\1\\Video145.mp4              47         1     0   \n",
      "3  E:/2025_ICIAP_FIRE/dataset\\1\\Video145.mp4              63         1     0   \n",
      "4  E:/2025_ICIAP_FIRE/dataset\\1\\Video145.mp4              79         1     0   \n",
      "\n",
      "   Smoke  \n",
      "0      0  \n",
      "1      0  \n",
      "2      0  \n",
      "3      0  \n",
      "4      0  \n"
     ]
    }
   ],
   "source": [
    "\n",
    "class_to_idx = {'No event': 0, 'Fire': 1, 'Smoke': 2}\n",
    "CONTROLLER_FRAMES = 1\n",
    "TYPE  = 'baseline_aug_diff'  # Change to 'train' or 'test' as needed\n",
    "OUTPUT_DIR = f'E:/2025_ICIAP_FIRE/output/{TYPE}/results'\n",
    "\n",
    "PATH_TO_CSV = os.path.join(OUTPUT_DIR, f'results_{CONTROLLER_FRAMES}.csv')\n",
    "path_to_videos = 'E:/2025_ICIAP_FIRE/dataset'\n",
    "path_to_labels = 'E:/2025_ICIAP_FIRE/GT'\n",
    "#header = ['video_name', 'current_second', 'No_event', 'Fire', 'Smoke']\n",
    "df = pd.read_csv(PATH_TO_CSV)\n",
    "print(df.head())\n"
   ]
  },
  {
   "cell_type": "code",
   "execution_count": 80,
   "metadata": {},
   "outputs": [],
   "source": [
    "import numpy as np\n",
    "\n",
    "def get_tp_fp_fn(g_list, p_list, delta_t=5, t_max=60):\n",
    "    '''\n",
    "    Returns sets/lists of true positives (tp_idx), false positives (fp_idx), and false negatives (fn_idx) indices.\n",
    "    '''\n",
    "    tp_idx = []\n",
    "    fp_idx = []\n",
    "    fn_idx = []\n",
    "\n",
    "    for idx, (g, p) in enumerate(zip(g_list, p_list)):\n",
    "        # Fire video\n",
    "        if g is not None:\n",
    "            if p is not None:\n",
    "                dt_min = max(0, g - delta_t)\n",
    "                dt_max = g + t_max\n",
    "                if dt_min <= p <= dt_max:\n",
    "                    tp_idx.append(idx)\n",
    "                elif p < dt_min:\n",
    "                    fp_idx.append(idx)\n",
    "            else:\n",
    "                fn_idx.append(idx)\n",
    "        # Non-fire video\n",
    "        else:\n",
    "            if p is not None:\n",
    "                fp_idx.append(idx)\n",
    "    return tp_idx, fp_idx, fn_idx\n",
    "\n",
    "def metric_precision(tp, fp):\n",
    "    return len(tp) / (len(tp) + len(fp)) if (len(tp) + len(fp)) > 0 else 0.0\n",
    "\n",
    "def metric_recall(tp, fn):\n",
    "    return len(tp) / (len(tp) + len(fn)) if (len(tp) + len(fn)) > 0 else 0.0\n",
    "\n",
    "def average_notification_delay(tp_idx, g_list, p_list):\n",
    "    if not tp_idx:\n",
    "        return 0.0\n",
    "    delays = [abs(p_list[i] - g_list[i]) for i in tp_idx]\n",
    "    return np.mean(delays)\n",
    "\n",
    "def normalized_delay(D):\n",
    "    # Dn = max(0, 60 - D) / 60\n",
    "    return max(0, 60 - D) / 60.0\n",
    "\n",
    "def pfr(processing_times):\n",
    "    # processing_times: list of per-video processing time in seconds\n",
    "    # PFR = 1 / (sum t_i / N)\n",
    "    if not processing_times:\n",
    "        return 0.0\n",
    "    return 1.0 / (np.mean(processing_times))\n",
    "\n",
    "def pfr_delta(pfr, pfr_target):\n",
    "    # PFR_delta = max(0, pfr_target/pfr - 1)\n",
    "    return max(0.0, (pfr_target / pfr) - 1) if pfr > 0 else float('inf')\n",
    "\n",
    "def mem_delta(mem, mem_target):\n",
    "    # mem in GB\n",
    "    return max(0.0, (mem / mem_target) - 1) if mem_target > 0 else float('inf')\n",
    "\n",
    "def fds(P, R, Dn, pfr_delta_val, mem_delta_val):\n",
    "    return (P * R * Dn) / ((1 + pfr_delta_val) * (1 + mem_delta_val))"
   ]
  },
  {
   "cell_type": "code",
   "execution_count": 81,
   "metadata": {},
   "outputs": [
    {
     "name": "stdout",
     "output_type": "stream",
     "text": [
      "Found 353 video files and 353 label files.\n"
     ]
    }
   ],
   "source": [
    "def load_and_split(videos_path, labels_path, seed, split_ratio=0.8):\n",
    "    vids, lbls = corresponding_label_to_video(videos_path, labels_path)\n",
    "    combined = list(zip(vids, lbls))\n",
    "    random.seed(seed); random.shuffle(combined)\n",
    "    vids, lbls = zip(*combined)\n",
    "    idx = int(len(vids) * split_ratio)\n",
    "    return vids[:idx], lbls[:idx], vids[idx:], lbls[idx:]\n",
    "\n",
    "train_v, train_l, val_v, val_l = load_and_split(path_to_videos, path_to_labels, 42)\n",
    "#for each label\n",
    "g_list = []\n",
    "p_list = []\n",
    "for vid, lbl in zip(val_v, val_l):\n",
    "    timestart, cls_event = get_rtf_text(lbl)\n",
    "    if \"No event\" in cls_event:\n",
    "        g_list.append(None)\n",
    "    else:\n",
    "        g_list.append(int(timestart))\n",
    "\n",
    "    #get all predictions for this video\n",
    "    df_vid = df[df['video_name'] == vid]\n",
    "\n",
    "    DIM_KERNEL = 3  # you can change this as needed\n",
    "    # Smooth 'no_event' to help detect transitions more robustly\n",
    "    no_event_smoothed = pd.Series(df_vid['No_event']).rolling(window=DIM_KERNEL, center=True, min_periods=1).mean()\n",
    "    \n",
    "    fire = df_vid['Fire'].values\n",
    "    smoke = df_vid['Smoke'].values\n",
    "    current_second = df_vid['current_second'].values\n",
    "    no_event_smoothed = no_event_smoothed.values\n",
    "\n",
    "    #get first local minimum of no_event_smoothed\n",
    "    first_local_min = np.argmin(no_event_smoothed)\n",
    "    #print(f\"First local minimum for video {vid}: {first_local_min}, value: {no_event_smoothed[first_local_min]}\")\n",
    "    if first_local_min == 0 and no_event_smoothed[first_local_min] > 0.5:\n",
    "        # If the first local minimum is at the start and has a high value, we assume no event\n",
    "        p_list.append(None)\n",
    "    else:\n",
    "        p_list.append(int(current_second[first_local_min])-1)\n",
    "    #print(f\"Predicted time for video {vid} local minimum: {first_local_min}, value: {no_event_smoothed[first_local_min]}, predicted second: {p_list[-1]}\")\n",
    "        \n",
    "\n",
    "                \n",
    "        \n",
    "                \n"
   ]
  },
  {
   "cell_type": "code",
   "execution_count": 82,
   "metadata": {},
   "outputs": [
    {
     "name": "stdout",
     "output_type": "stream",
     "text": [
      "Ground truth list: [8, 4, 0, 0, None, 0, 1, 0, 4, None, 0, 0, 0, 0, None, None, 4, 1, 0, 0, 0, None, 0, None, 1, 240, None, 0, 1, 0, 0, None, 0, 38, 3, 0, 70, None, 0, 0, 0, None, None, 0, 0, 0, 0, 0, 1, 570, 1, None, 24, 0, 0, 0, None, None, None, 0, 0, None, 1, None, None, 0, 0, 0, None, None, 0]\n",
      "Prediction list: [None, 14, None, 46, None, 62, 14, 158, 14, 14, 15, 15, 14, 15, None, 14, 14, 14, 62, 15, 14, None, 14, 10, 14, None, 15, 14, 14, 174, 14, None, 94, 14, 14, 190, 174, 14, 46, 14, 14, None, None, 7, 14, 46, 14, 15, 14, None, 13, None, 46, 9, 15, 14, None, None, None, 15, 15, None, 10, None, 6, 14, 7, 14, 14, 15, 11]\n",
      "length of ground truth list: 71\n",
      "length of prediction list: 71\n"
     ]
    }
   ],
   "source": [
    "print(\"Ground truth list:\", g_list)\n",
    "print(\"Prediction list:\", p_list)\n",
    "\n",
    "print(\"length of ground truth list:\", len(g_list))\n",
    "print(\"length of prediction list:\", len(p_list))"
   ]
  },
  {
   "cell_type": "code",
   "execution_count": 83,
   "metadata": {},
   "outputs": [],
   "source": [
    "\n",
    "\n",
    "\n",
    "tp, fp, fn = get_tp_fp_fn(g_list, p_list)\n",
    "\n",
    "P = metric_precision(tp, fp)\n",
    "R = metric_recall(tp, fn)\n",
    "D = average_notification_delay(tp, g_list, p_list)\n",
    "Dn = normalized_delay(D)\n",
    "\n",
    "#PFR is 80 if CONTROLLER_FRAMES == 1 20 if CONTROLLER_FRAMES == 4 or 5 if CONTROLLER_FRAMES == 16\n",
    "PFR = 65.0 if CONTROLLER_FRAMES == 1 else 13.5 if CONTROLLER_FRAMES == 4  else 3.2\n",
    "\n",
    "PFR_TARGET = PFR / 2.3\n",
    "MEM = 4.0\n",
    "MEM_TARGET = 4.0\n",
    "\n",
    "PFR_DELTA = pfr_delta(PFR, PFR_TARGET)\n",
    "MEM_DELTA = mem_delta(MEM, MEM_TARGET)\n",
    "\n",
    "FDS = fds(P, R, Dn, PFR_DELTA, MEM_DELTA)\n"
   ]
  },
  {
   "cell_type": "code",
   "execution_count": 84,
   "metadata": {},
   "outputs": [
    {
     "name": "stdout",
     "output_type": "stream",
     "text": [
      "Precision: 0.8125\n",
      "Recall: 0.9069767441860465\n",
      "Average delay: 15.615384615384615\n",
      "Normalized delay: 0.7397435897435898\n",
      "FDS: 0.5451308139534884\n"
     ]
    }
   ],
   "source": [
    "\n",
    "print('Precision:', P)\n",
    "print('Recall:', R)\n",
    "print('Average delay:', D)\n",
    "print('Normalized delay:', Dn)\n",
    "print('FDS:', FDS)"
   ]
  }
 ],
 "metadata": {
  "kernelspec": {
   "display_name": "onfire_env",
   "language": "python",
   "name": "python3"
  },
  "language_info": {
   "codemirror_mode": {
    "name": "ipython",
    "version": 3
   },
   "file_extension": ".py",
   "mimetype": "text/x-python",
   "name": "python",
   "nbconvert_exporter": "python",
   "pygments_lexer": "ipython3",
   "version": "3.12.10"
  }
 },
 "nbformat": 4,
 "nbformat_minor": 2
}
