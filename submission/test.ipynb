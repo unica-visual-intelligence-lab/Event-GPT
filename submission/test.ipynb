{
  "nbformat": 4,
  "nbformat_minor": 0,
  "metadata": {
    "colab": {
      "provenance": [],
      "gpuType": "T4"
    },
    "kernelspec": {
      "name": "python3",
      "display_name": "Python 3"
    },
    "language_info": {
      "name": "python"
    },
    "accelerator": "GPU"
  },
  "cells": [
    {
      "cell_type": "code",
      "execution_count": 1,
      "metadata": {
        "colab": {
          "base_uri": "https://localhost:8080/"
        },
        "id": "zLOk7X1Nf281",
        "outputId": "4b7434dd-b813-47d4-aaac-6dbc0cada2af"
      },
      "outputs": [
        {
          "output_type": "stream",
          "name": "stdout",
          "text": [
            "Mounted at /content/gdrive\n"
          ]
        }
      ],
      "source": [
        "# You can also see this video - https://www.youtube.com/watch?v=inN8seMm7UI\n",
        "\n",
        "# Mount your Drive - After doing this step, your Google Drive folders are accessible from Google Colab.\n",
        "from google.colab import drive\n",
        "drive.mount('/content/gdrive')"
      ]
    },
    {
      "cell_type": "code",
      "source": [
        "# Install all the requirements\n",
        "!pip install opencv-python\n",
        "!pip install transformers==4.50.0\n",
        "\n"
      ],
      "metadata": {
        "colab": {
          "base_uri": "https://localhost:8080/"
        },
        "id": "PIFCWENxgq_q",
        "outputId": "e7e3d18c-bd5d-412e-c9d7-f527e45f6279"
      },
      "execution_count": 2,
      "outputs": [
        {
          "output_type": "stream",
          "name": "stdout",
          "text": [
            "Requirement already satisfied: opencv-python in /usr/local/lib/python3.11/dist-packages (4.11.0.86)\n",
            "Requirement already satisfied: numpy>=1.21.2 in /usr/local/lib/python3.11/dist-packages (from opencv-python) (2.0.2)\n",
            "Collecting transformers==4.50.0\n",
            "  Downloading transformers-4.50.0-py3-none-any.whl.metadata (39 kB)\n",
            "Requirement already satisfied: filelock in /usr/local/lib/python3.11/dist-packages (from transformers==4.50.0) (3.18.0)\n",
            "Requirement already satisfied: huggingface-hub<1.0,>=0.26.0 in /usr/local/lib/python3.11/dist-packages (from transformers==4.50.0) (0.32.4)\n",
            "Requirement already satisfied: numpy>=1.17 in /usr/local/lib/python3.11/dist-packages (from transformers==4.50.0) (2.0.2)\n",
            "Requirement already satisfied: packaging>=20.0 in /usr/local/lib/python3.11/dist-packages (from transformers==4.50.0) (24.2)\n",
            "Requirement already satisfied: pyyaml>=5.1 in /usr/local/lib/python3.11/dist-packages (from transformers==4.50.0) (6.0.2)\n",
            "Requirement already satisfied: regex!=2019.12.17 in /usr/local/lib/python3.11/dist-packages (from transformers==4.50.0) (2024.11.6)\n",
            "Requirement already satisfied: requests in /usr/local/lib/python3.11/dist-packages (from transformers==4.50.0) (2.32.3)\n",
            "Requirement already satisfied: tokenizers<0.22,>=0.21 in /usr/local/lib/python3.11/dist-packages (from transformers==4.50.0) (0.21.1)\n",
            "Requirement already satisfied: safetensors>=0.4.3 in /usr/local/lib/python3.11/dist-packages (from transformers==4.50.0) (0.5.3)\n",
            "Requirement already satisfied: tqdm>=4.27 in /usr/local/lib/python3.11/dist-packages (from transformers==4.50.0) (4.67.1)\n",
            "Requirement already satisfied: fsspec>=2023.5.0 in /usr/local/lib/python3.11/dist-packages (from huggingface-hub<1.0,>=0.26.0->transformers==4.50.0) (2025.3.2)\n",
            "Requirement already satisfied: typing-extensions>=3.7.4.3 in /usr/local/lib/python3.11/dist-packages (from huggingface-hub<1.0,>=0.26.0->transformers==4.50.0) (4.14.0)\n",
            "Requirement already satisfied: hf-xet<2.0.0,>=1.1.2 in /usr/local/lib/python3.11/dist-packages (from huggingface-hub<1.0,>=0.26.0->transformers==4.50.0) (1.1.2)\n",
            "Requirement already satisfied: charset-normalizer<4,>=2 in /usr/local/lib/python3.11/dist-packages (from requests->transformers==4.50.0) (3.4.2)\n",
            "Requirement already satisfied: idna<4,>=2.5 in /usr/local/lib/python3.11/dist-packages (from requests->transformers==4.50.0) (3.10)\n",
            "Requirement already satisfied: urllib3<3,>=1.21.1 in /usr/local/lib/python3.11/dist-packages (from requests->transformers==4.50.0) (2.4.0)\n",
            "Requirement already satisfied: certifi>=2017.4.17 in /usr/local/lib/python3.11/dist-packages (from requests->transformers==4.50.0) (2025.4.26)\n",
            "Downloading transformers-4.50.0-py3-none-any.whl (10.2 MB)\n",
            "\u001b[2K   \u001b[90m━━━━━━━━━━━━━━━━━━━━━━━━━━━━━━━━━━━━━━━━\u001b[0m \u001b[32m10.2/10.2 MB\u001b[0m \u001b[31m98.2 MB/s\u001b[0m eta \u001b[36m0:00:00\u001b[0m\n",
            "\u001b[?25hInstalling collected packages: transformers\n",
            "  Attempting uninstall: transformers\n",
            "    Found existing installation: transformers 4.52.4\n",
            "    Uninstalling transformers-4.52.4:\n",
            "      Successfully uninstalled transformers-4.52.4\n",
            "Successfully installed transformers-4.50.0\n"
          ]
        }
      ]
    },
    {
      "cell_type": "code",
      "source": [
        "!python test.py --videos foo_videos/ --results foo_results/"
      ],
      "metadata": {
        "colab": {
          "base_uri": "https://localhost:8080/"
        },
        "id": "4s7CcVTyhKuT",
        "outputId": "6e240fbe-508a-4b58-d314-759b4d7b5947"
      },
      "execution_count": 3,
      "outputs": [
        {
          "output_type": "stream",
          "name": "stdout",
          "text": [
            "2025-06-13 14:01:05.513917: E external/local_xla/xla/stream_executor/cuda/cuda_fft.cc:477] Unable to register cuFFT factory: Attempting to register factory for plugin cuFFT when one has already been registered\n",
            "WARNING: All log messages before absl::InitializeLog() is called are written to STDERR\n",
            "E0000 00:00:1749823265.545057    6806 cuda_dnn.cc:8310] Unable to register cuDNN factory: Attempting to register factory for plugin cuDNN when one has already been registered\n",
            "E0000 00:00:1749823265.554433    6806 cuda_blas.cc:1418] Unable to register cuBLAS factory: Attempting to register factory for plugin cuBLAS when one has already been registered\n",
            "2025-06-13 14:01:05.585922: I tensorflow/core/platform/cpu_feature_guard.cc:210] This TensorFlow binary is optimized to use available CPU instructions in performance-critical operations.\n",
            "To enable the following instructions: AVX2 AVX512F FMA, in other operations, rebuild TensorFlow with the appropriate compiler flags.\n",
            "config.json: 100% 919/919 [00:00<00:00, 6.07MB/s]\n",
            "modeling_config.py: 100% 517/517 [00:00<00:00, 4.72MB/s]\n",
            "A new version of the following files was downloaded from https://huggingface.co/OpenGVLab/VideoMAEv2-Base:\n",
            "- modeling_config.py\n",
            ". Make sure to double-check they do not contain any added malicious code. To avoid downloading new versions of the code file, you can pin a revision.\n",
            "preprocessor_config.json: 100% 304/304 [00:00<00:00, 1.80MB/s]\n",
            "modeling_videomaev2.py: 100% 17.1k/17.1k [00:00<00:00, 66.5MB/s]\n",
            "A new version of the following files was downloaded from https://huggingface.co/OpenGVLab/VideoMAEv2-Base:\n",
            "- modeling_videomaev2.py\n",
            ". Make sure to double-check they do not contain any added malicious code. To avoid downloading new versions of the code file, you can pin a revision.\n",
            "model.safetensors: 100% 345M/345M [00:03<00:00, 86.7MB/s]\n",
            "tokenizer_config.json: 100% 26.0/26.0 [00:00<00:00, 221kB/s]\n",
            "vocab.json: 100% 1.04M/1.04M [00:00<00:00, 14.1MB/s]\n",
            "merges.txt: 100% 456k/456k [00:00<00:00, 5.90MB/s]\n",
            "tokenizer.json: 100% 1.36M/1.36M [00:00<00:00, 6.68MB/s]\n",
            "config.json: 100% 665/665 [00:00<00:00, 4.65MB/s]\n",
            "model.safetensors: 100% 548M/548M [00:05<00:00, 103MB/s]\n",
            "Some weights of GPT2ForSequenceClassification were not initialized from the model checkpoint at openai-community/gpt2 and are newly initialized: ['score.weight']\n",
            "You should probably TRAIN this model on a down-stream task to be able to use it for predictions and inference.\n",
            "/usr/local/lib/python3.11/dist-packages/peft/tuners/lora/layer.py:1768: UserWarning: fan_in_fan_out is set to False but the target module is `Conv1D`. Setting fan_in_fan_out to True.\n",
            "  warnings.warn(\n",
            "Text Model total parameters: 124739328 trainable parameters: 297216\n",
            "Video Encoder total parameters: 86227200 trainable parameters: 0\n",
            "Processing videos from: foo_videos/\n",
            "Saving results to: foo_results/\n",
            "Found videos: 4\n",
            "  0% 0/4 [00:00<?, ?it/s]Video: foo_videos/Video103.mp4\n",
            "Total frames: 7501, FPS input: 8.333333333333334, FPS output: 4\n",
            "Total fire events detected: 0\n",
            "Total smoke events detected: 0\n",
            "No fire event detected in video foo_videos/Video103.mp4.\n",
            " 25% 1/4 [00:39<01:58, 39.51s/it]Video: foo_videos/Video2.mp4\n",
            "Total frames: 5960, FPS input: 9.0, FPS output: 4\n",
            "Total fire events detected: 157\n",
            "Total smoke events detected: 157\n",
            "Fire event detected in video foo_videos/Video2.mp4 at frame index 4, second: 16\n",
            " 50% 2/4 [01:09<01:08, 34.02s/it]Video: foo_videos/Video0.mp4\n",
            "Total frames: 381, FPS input: 29.97002997002997, FPS output: 4\n",
            "Total fire events detected: 2\n",
            "Total smoke events detected: 0\n",
            "Fire event detected in video foo_videos/Video0.mp4 at frame index 0, second: 0\n",
            " 75% 3/4 [01:10<00:18, 18.94s/it]Video: foo_videos/Video1.mp4\n",
            "Total frames: 609, FPS input: 10.0, FPS output: 4\n",
            "Total fire events detected: 14\n",
            "Total smoke events detected: 14\n",
            "Fire event detected in video foo_videos/Video1.mp4 at frame index 0, second: 0\n",
            "100% 4/4 [01:14<00:00, 18.75s/it]\n"
          ]
        }
      ]
    }
  ]
}